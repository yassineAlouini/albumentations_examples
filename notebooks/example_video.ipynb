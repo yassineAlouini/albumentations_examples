{
 "cells": [
  {
   "cell_type": "markdown",
   "metadata": {},
   "source": [
    "# Working with Videos\n",
    "\n",
    "\n",
    "Inspiration source: https://albumentations.ai/docs/examples/example_multi_target/\n",
    "\n",
    "TODO: Finish updating...\n",
    "\n",
    "Sometimes you want to apply the same set of augmentations to multiple input objects of the same type. For example, you might have a set of frames from the video, and you want to augment them in the same way. Or you may have multiple masks for the same image, and you want to apply the same augmentation for all of them.\n",
    "\n",
    "In Albumentations, you can declare additional targets and their types using the `additional_targets` argument to `Compose`. \n",
    "\n",
    "For the name of an additional target, you can use any string value that is also a valid argument name in Python. Later, you will use those names to pass additional targets to a transformation pipeline. So you can't use a string that starts with a digit, such as `'0image'` because it is not a valid Python argument name.\n",
    "\n",
    "The type could be either `image`, `mask`, `bboxes`, or `keypoints`.\n",
    "\n",
    "An example definition of `Compose` that supports multiple inputs of the same type may be the following:\n",
    "\n",
    "```\n",
    "import albumentations as A\n",
    "\n",
    "transform = A.Compose(\n",
    "    [HorizontalFlip(p=0.5), ...],\n",
    "    additional_targets={\n",
    "        'image1': 'image',\n",
    "        'image2': 'image',\n",
    "        ...\n",
    "        'imageN': 'image',\n",
    "\n",
    "        'bboxes1': 'bboxes',\n",
    "        'bboxes1': 'bboxes',\n",
    "        ...\n",
    "        'bboxesM': 'bboxes',\n",
    "\n",
    "        'keypoints1': 'keypoints',\n",
    "        'keypoints2': 'keypoints',\n",
    "        ...\n",
    "        'keypointsK': 'keypoints',\n",
    "\n",
    "        'mask1': 'mask',\n",
    "        'mask2': 'mask',\n",
    "        ...\n",
    "        'maskL': 'mask'\n",
    "    })\n",
    ")\n",
    "```"
   ]
  },
  {
   "cell_type": "markdown",
   "metadata": {},
   "source": [
    "### Import the required libraries"
   ]
  },
  {
   "cell_type": "code",
   "execution_count": null,
   "metadata": {},
   "outputs": [],
   "source": [
    "import random\n",
    "import cv2\n",
    "from matplotlib import pyplot as plt\n",
    "import albumentations as A"
   ]
  },
  {
   "cell_type": "markdown",
   "metadata": {},
   "source": [
    "### Define a function to visualize an image\n"
   ]
  },
  {
   "cell_type": "code",
   "execution_count": null,
   "metadata": {},
   "outputs": [],
   "source": [
    "def visualize(image):\n",
    "    plt.figure(figsize=(10, 10))\n",
    "    plt.axis('off')\n",
    "    plt.imshow(image)"
   ]
  },
  {
   "cell_type": "markdown",
   "metadata": {},
   "source": [
    "### Load video as a collection of frames"
   ]
  },
  {
   "cell_type": "code",
   "execution_count": null,
   "metadata": {},
   "outputs": [],
   "source": [
    "# TODO: Finish loading the video.\n",
    "video = \"\""
   ]
  }
 ],
 "metadata": {
  "language_info": {
   "name": "python"
  }
 },
 "nbformat": 4,
 "nbformat_minor": 2
}
